{
 "metadata": {
  "language_info": {
   "codemirror_mode": {
    "name": "ipython",
    "version": 3
   },
   "file_extension": ".py",
   "mimetype": "text/x-python",
   "name": "python",
   "nbconvert_exporter": "python",
   "pygments_lexer": "ipython3",
   "version": "3.7.6-final"
  },
  "orig_nbformat": 2,
  "kernelspec": {
   "name": "Python 3.7.6 64-bit ('base': conda)",
   "display_name": "Python 3.7.6 64-bit ('base': conda)",
   "metadata": {
    "interpreter": {
     "hash": "b3ba2566441a7c06988d0923437866b63cedc61552a5af99d1f4fb67d367b25f"
    }
   }
  }
 },
 "nbformat": 4,
 "nbformat_minor": 2,
 "cells": [
  {
   "cell_type": "code",
   "execution_count": 3,
   "metadata": {
    "tags": []
   },
   "outputs": [
    {
     "output_type": "stream",
     "name": "stdout",
     "text": "EL valor actual de x es: 0\nEL valor actual de x es: 1\nEL valor actual de x es: 2\nEL valor actual de x es: 3\nEL valor actual de x es: 4\nx no es menor que 5\n"
    }
   ],
   "source": [
    "x = 0\n",
    "while x < 5:\n",
    "    print(f\"EL valor actual de x es: {x}\")\n",
    "    x += 1\n",
    "else:\n",
    "    print(\"x no es menor que 5\")"
   ]
  }
 ]
}