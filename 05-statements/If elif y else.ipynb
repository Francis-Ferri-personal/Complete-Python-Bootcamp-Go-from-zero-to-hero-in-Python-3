{
 "metadata": {
  "language_info": {
   "codemirror_mode": {
    "name": "ipython",
    "version": 3
   },
   "file_extension": ".py",
   "mimetype": "text/x-python",
   "name": "python",
   "nbconvert_exporter": "python",
   "pygments_lexer": "ipython3",
   "version": "3.7.6-final"
  },
  "orig_nbformat": 2,
  "kernelspec": {
   "name": "Python 3.7.6 64-bit ('base': conda)",
   "display_name": "Python 3.7.6 64-bit ('base': conda)",
   "metadata": {
    "interpreter": {
     "hash": "b3ba2566441a7c06988d0923437866b63cedc61552a5af99d1f4fb67d367b25f"
    }
   }
  }
 },
 "nbformat": 4,
 "nbformat_minor": 2,
 "cells": [
  {
   "cell_type": "code",
   "execution_count": 2,
   "metadata": {
    "tags": []
   },
   "outputs": [
    {
     "output_type": "stream",
     "name": "stdout",
     "text": "Its TRUE!\n"
    }
   ],
   "source": [
    "if True:\n",
    "    print(\"Its TRUE!\")"
   ]
  },
  {
   "cell_type": "code",
   "execution_count": 3,
   "metadata": {
    "tags": []
   },
   "outputs": [
    {
     "output_type": "stream",
     "name": "stdout",
     "text": "Its TRUE!\n"
    }
   ],
   "source": [
    "if 3 > 2:\n",
    "    print(\"Its TRUE!\")"
   ]
  },
  {
   "cell_type": "code",
   "execution_count": 8,
   "metadata": {
    "tags": []
   },
   "outputs": [
    {
     "output_type": "stream",
     "name": "stdout",
     "text": "FEED ME!\n"
    }
   ],
   "source": [
    "hunngry = True\n",
    "if hunngry:\n",
    "    print(\"FEED ME!\")\n",
    "else:\n",
    "    print(\"Im not hungry\")\n"
   ]
  },
  {
   "cell_type": "code",
   "execution_count": 14,
   "metadata": {
    "tags": []
   },
   "outputs": [
    {
     "output_type": "stream",
     "name": "stdout",
     "text": "I do not know much\n"
    }
   ],
   "source": [
    "loc = \"Game\"\n",
    "if loc == \"Auto Shop\":\n",
    "    print(\"Cars are cool!\")\n",
    "elif loc == \"Bank\":\n",
    "    print(\"Money is cool!\")\n",
    "elif loc == \"Store\":\n",
    "    print(\"Welcome to the store\")\n",
    "else:\n",
    "    print(\"I do not know much\")"
   ]
  },
  {
   "cell_type": "code",
   "execution_count": 16,
   "metadata": {
    "tags": []
   },
   "outputs": [
    {
     "output_type": "stream",
     "name": "stdout",
     "text": "Hello Sammy\n"
    }
   ],
   "source": [
    "name = \"Sammy\"\n",
    "if name == \"Frankie\":\n",
    "    print(\"Hello Frankie!\")\n",
    "elif name == \"Sammy\":\n",
    "    print(\"Hello Sammy\")\n",
    "else:\n",
    "    print(\"WHats is your name?\")"
   ]
  },
  {
   "cell_type": "code",
   "execution_count": null,
   "metadata": {},
   "outputs": [],
   "source": []
  }
 ]
}