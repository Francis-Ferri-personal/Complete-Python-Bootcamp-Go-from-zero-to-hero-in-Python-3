{
 "metadata": {
  "language_info": {
   "codemirror_mode": {
    "name": "ipython",
    "version": 3
   },
   "file_extension": ".py",
   "mimetype": "text/x-python",
   "name": "python",
   "nbconvert_exporter": "python",
   "pygments_lexer": "ipython3",
   "version": "3.7.6-final"
  },
  "orig_nbformat": 2,
  "kernelspec": {
   "name": "python3",
   "display_name": "Python 3"
  }
 },
 "nbformat": 4,
 "nbformat_minor": 2,
 "cells": [
  {
   "source": [
    "# Regular expresions"
   ],
   "cell_type": "markdown",
   "metadata": {}
  },
  {
   "cell_type": "code",
   "execution_count": 1,
   "metadata": {},
   "outputs": [],
   "source": [
    "import re"
   ]
  },
  {
   "cell_type": "code",
   "execution_count": 2,
   "metadata": {},
   "outputs": [],
   "source": [
    "patterns = [\"term1\", \"term2\"]"
   ]
  },
  {
   "cell_type": "code",
   "execution_count": 3,
   "metadata": {},
   "outputs": [],
   "source": [
    "text = \"Esta es una cadena con term1 pero no el otro termino\""
   ]
  },
  {
   "cell_type": "code",
   "execution_count": 4,
   "metadata": {},
   "outputs": [
    {
     "output_type": "execute_result",
     "data": {
      "text/plain": [
       "<re.Match object; span=(0, 5), match='hello'>"
      ]
     },
     "metadata": {},
     "execution_count": 4
    }
   ],
   "source": [
    "re.search(\"hello\", \"hello world\")"
   ]
  },
  {
   "cell_type": "code",
   "execution_count": 5,
   "metadata": {},
   "outputs": [
    {
     "output_type": "stream",
     "name": "stdout",
     "text": [
      "Buscando term1 en: \n'Esta es una cadena con term1 pero no el otro termino'\n\n\nMatch encontrado.\n\nBuscando term2 en: \n'Esta es una cadena con term1 pero no el otro termino'\n\n\nNo se encontraron ocurrencias\n\n"
     ]
    }
   ],
   "source": [
    "for pattern in patterns:\n",
    "    print(f\"Buscando {pattern} en: \\n'{text}'\\n\")\n",
    "\n",
    "    # Revisar por match\n",
    "    if re.search(pattern, text):\n",
    "        print(\"\\nMatch encontrado.\\n\")\n",
    "    else:\n",
    "        print(\"\\nNo se encontraron ocurrencias\\n\")"
   ]
  },
  {
   "cell_type": "code",
   "execution_count": 6,
   "metadata": {},
   "outputs": [
    {
     "output_type": "stream",
     "name": "stdout",
     "text": [
      "None\n"
     ]
    }
   ],
   "source": [
    "print(re.search(\"h\", \"w\"))"
   ]
  },
  {
   "cell_type": "code",
   "execution_count": 7,
   "metadata": {},
   "outputs": [],
   "source": [
    "match = re.search(patterns[0], text)"
   ]
  },
  {
   "cell_type": "code",
   "execution_count": 9,
   "metadata": {},
   "outputs": [
    {
     "output_type": "execute_result",
     "data": {
      "text/plain": [
       "re.Match"
      ]
     },
     "metadata": {},
     "execution_count": 9
    }
   ],
   "source": [
    "type(match)"
   ]
  },
  {
   "cell_type": "code",
   "execution_count": 11,
   "metadata": {},
   "outputs": [
    {
     "output_type": "execute_result",
     "data": {
      "text/plain": [
       "23"
      ]
     },
     "metadata": {},
     "execution_count": 11
    }
   ],
   "source": [
    "match.start()"
   ]
  },
  {
   "cell_type": "code",
   "execution_count": 13,
   "metadata": {},
   "outputs": [
    {
     "output_type": "execute_result",
     "data": {
      "text/plain": [
       "28"
      ]
     },
     "metadata": {},
     "execution_count": 13
    }
   ],
   "source": [
    "match.end()"
   ]
  },
  {
   "cell_type": "code",
   "execution_count": 15,
   "metadata": {},
   "outputs": [],
   "source": [
    "split_term = \"@\"\n",
    "\n",
    "phrase = \"Cual es tu email, es hello@gmail.com?\""
   ]
  },
  {
   "cell_type": "code",
   "execution_count": 16,
   "metadata": {},
   "outputs": [
    {
     "output_type": "execute_result",
     "data": {
      "text/plain": [
       "['Cual es tu email, es hello', 'gmail.com?']"
      ]
     },
     "metadata": {},
     "execution_count": 16
    }
   ],
   "source": [
    "re.split(split_term, phrase)"
   ]
  },
  {
   "cell_type": "code",
   "execution_count": 17,
   "metadata": {},
   "outputs": [
    {
     "output_type": "execute_result",
     "data": {
      "text/plain": [
       "['Hollo', 'world']"
      ]
     },
     "metadata": {},
     "execution_count": 17
    }
   ],
   "source": [
    "\"Hollo world\".split()"
   ]
  },
  {
   "cell_type": "code",
   "execution_count": 18,
   "metadata": {},
   "outputs": [
    {
     "output_type": "execute_result",
     "data": {
      "text/plain": [
       "['match', 'match']"
      ]
     },
     "metadata": {},
     "execution_count": 18
    }
   ],
   "source": [
    "re.findall(\"match\", \"Aquie esta un match, aqui esta otro match\")"
   ]
  },
  {
   "cell_type": "code",
   "execution_count": 22,
   "metadata": {},
   "outputs": [],
   "source": [
    "def multi_re_find(patterns, phrase):\n",
    "    '''\n",
    "    Toma una lista de los patrones regex\n",
    "    Imprime una lista de tofdas las ocurrencias\n",
    "    '''\n",
    "    for pattern in patterns:\n",
    "        print(f\"Buscando en la frase usando el re check: {pattern}\")\n",
    "        print(re.findall(pattern, phrase))\n",
    "        print(\"\\n\")\n"
   ]
  },
  {
   "source": [
    "## Sintaxis de repeticion"
   ],
   "cell_type": "markdown",
   "metadata": {}
  },
  {
   "cell_type": "code",
   "execution_count": 23,
   "metadata": {},
   "outputs": [
    {
     "output_type": "stream",
     "name": "stdout",
     "text": [
      "Buscando en la frase usando el re check: sd*\n['sd', 'sd', 's', 's', 'sddd', 'sddd', 'sddd', 'sd', 's', 's', 's', 's', 's', 's', 'sdddd']\n\n\nBuscando en la frase usando el re check: sd+\n['sd', 'sd', 'sddd', 'sddd', 'sddd', 'sd', 'sdddd']\n\n\nBuscando en la frase usando el re check: sd?\n['sd', 'sd', 's', 's', 'sd', 'sd', 'sd', 'sd', 's', 's', 's', 's', 's', 's', 'sd']\n\n\nBuscando en la frase usando el re check: sd{3}\n['sddd', 'sddd', 'sddd', 'sddd']\n\n\nBuscando en la frase usando el re check: sd{2,3}\n['sddd', 'sddd', 'sddd', 'sddd']\n\n\n"
     ]
    }
   ],
   "source": [
    "test_phase = \"sdsd..sssddd...sdddsddd...dsds...dsssss...sdddd\"\n",
    "test_patterns = [\"sd*\", #S sequido de 0 o mas ds\n",
    "    \"sd+\", # s seguida de 1 o mas ds\n",
    "    \"sd?\", # s seguida por 0 o 1 d\n",
    "    \"sd{3}\", # s seguida por tres ds\n",
    "    \"sd{2,3}\" # s seguida por 2 o tres ds\n",
    "]\n",
    "multi_re_find(test_patterns, test_phase)"
   ]
  },
  {
   "source": [
    "## Sets de caracteres"
   ],
   "cell_type": "markdown",
   "metadata": {}
  },
  {
   "cell_type": "code",
   "execution_count": 24,
   "metadata": {},
   "outputs": [
    {
     "output_type": "stream",
     "name": "stdout",
     "text": [
      "Buscando en la frase usando el re check: [sd]\n['s', 'd', 's', 'd', 's', 's', 's', 'd', 'd', 'd', 's', 'd', 'd', 'd', 's', 'd', 'd', 'd', 'd', 's', 'd', 's', 'd', 's', 's', 's', 's', 's', 's', 'd', 'd', 'd', 'd']\n\n\nBuscando en la frase usando el re check: s[sd]+\n['sdsd', 'sssddd', 'sdddsddd', 'sds', 'sssss', 'sdddd']\n\n\n"
     ]
    }
   ],
   "source": [
    "test_phase = \"sdsd..sssddd...sdddsddd...dsds...dsssss...sdddd\"\n",
    "test_patterns = ['[sd]', # ambos s o d\n",
    "    \"s[sd]+\" # s seguido deuna o mas (s)s o (d)s\n",
    "]\n",
    "\n",
    "multi_re_find(test_patterns, test_phase)"
   ]
  },
  {
   "source": [
    "## Exclusion"
   ],
   "cell_type": "markdown",
   "metadata": {}
  },
  {
   "cell_type": "code",
   "execution_count": 28,
   "metadata": {},
   "outputs": [],
   "source": [
    "test_phrase = 'This is a string! But it has punctuation. How can we remove it?'"
   ]
  },
  {
   "cell_type": "code",
   "execution_count": 31,
   "metadata": {},
   "outputs": [
    {
     "output_type": "execute_result",
     "data": {
      "text/plain": [
       "['This',\n",
       " 'is',\n",
       " 'a',\n",
       " 'string',\n",
       " 'But',\n",
       " 'it',\n",
       " 'has',\n",
       " 'punctuation',\n",
       " 'How',\n",
       " 'can',\n",
       " 'we',\n",
       " 'remove',\n",
       " 'it']"
      ]
     },
     "metadata": {},
     "execution_count": 31
    }
   ],
   "source": [
    "re.findall(\"[^!.? ]+\", test_phrase)"
   ]
  },
  {
   "source": [
    "## Rangos de caracteres"
   ],
   "cell_type": "markdown",
   "metadata": {}
  },
  {
   "cell_type": "code",
   "execution_count": 32,
   "metadata": {},
   "outputs": [
    {
     "output_type": "stream",
     "name": "stdout",
     "text": [
      "Buscando en la frase usando el re check: [a-z]+\n['his', 'is', 'an', 'example', 'sentence', 'ets', 'see', 'if', 'can', 'find', 'some', 'letters']\n\n\nBuscando en la frase usando el re check: [A-Z]+\n['T', 'L']\n\n\nBuscando en la frase usando el re check: [a-zA-Z]+\n['This', 'is', 'an', 'example', 'sentence', 'Lets', 'see', 'if', 'can', 'find', 'some', 'letters']\n\n\nBuscando en la frase usando el re check: [A-Z][a-z]+\n['This', 'Lets']\n\n\n"
     ]
    }
   ],
   "source": [
    "test_phase = \"This is an example sentence. Lets see if can find some letters\"\n",
    "test_patterns = [\"[a-z]+\", # secuencia para letras minusculas\n",
    "    \"[A-Z]+\", # secuencia para letras mayusulas\n",
    "    \"[a-zA-Z]+\", # secuencia para letras mayusculas y minusculas\n",
    "    \"[A-Z][a-z]+\" # una letra mayuscula seguida de letras minusculas\n",
    "]\n",
    "multi_re_find(test_patterns, test_phase)"
   ]
  },
  {
   "cell_type": "code",
   "execution_count": 34,
   "metadata": {},
   "outputs": [
    {
     "output_type": "stream",
     "name": "stdout",
     "text": [
      "Hello \n new line\n"
     ]
    }
   ],
   "source": [
    "print(\"Hello \\n new line\")"
   ]
  },
  {
   "cell_type": "code",
   "execution_count": 37,
   "metadata": {},
   "outputs": [
    {
     "output_type": "stream",
     "name": "stdout",
     "text": [
      "Buscando en la frase usando el re check: \\d+\n['1233']\n\n\nBuscando en la frase usando el re check: \\D+\n['This is a string with some numbres ', ' and a symbol #hastag']\n\n\nBuscando en la frase usando el re check: \\s+\n[' ', ' ', ' ', ' ', ' ', ' ', ' ', ' ', ' ', ' ', ' ']\n\n\nBuscando en la frase usando el re check: \\S+\n['This', 'is', 'a', 'string', 'with', 'some', 'numbres', '1233', 'and', 'a', 'symbol', '#hastag']\n\n\nBuscando en la frase usando el re check: \\w+\n['This', 'is', 'a', 'string', 'with', 'some', 'numbres', '1233', 'and', 'a', 'symbol', 'hastag']\n\n\nBuscando en la frase usando el re check: \\W+\n[' ', ' ', ' ', ' ', ' ', ' ', ' ', ' ', ' ', ' ', ' #']\n\n\n"
     ]
    }
   ],
   "source": [
    "test_phrase = \"This is a string with some numbres 1233 and a symbol #hastag\"\n",
    "test_patterns = [r\"\\d+\", # secuenciad e digitos\n",
    "    r\"\\D+\", # secuencia de no digitos\n",
    "    r\"\\s+\", # secuencia de espacios en blanco\n",
    "    r\"\\S+\", # secuencia de no espacios en blanco\n",
    "    r\"\\w+\", # secuencia de caracteres alfanumericos\n",
    "    r\"\\W+\", # secuencia de caracteres  no alfanumericos\n",
    "]\n",
    "multi_re_find(test_patterns, test_phrase)"
   ]
  }
 ]
}