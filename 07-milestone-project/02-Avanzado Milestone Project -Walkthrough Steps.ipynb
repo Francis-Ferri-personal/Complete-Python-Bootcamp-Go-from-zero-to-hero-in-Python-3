{
 "cells": [
  {
   "cell_type": "markdown",
   "metadata": {},
   "source": [
    "___\n",
    "\n",
    "<a href='https://www.udemy.com/user/joseportilla/'><img src='../Pierian_Data_Logo.png'/></a>\n",
    "___\n",
    "<center><em>Content Copyright by Pierian Data</em></center>"
   ]
  },
  {
   "cell_type": "markdown",
   "metadata": {},
   "source": [
    "# Milestone Project 1: Walkthrough Steps Workbook\n",
    "\n",
    "Below is a set of steps for you to follow to try to create the Tic Tac Toe Milestone Project game!"
   ]
  },
  {
   "cell_type": "markdown",
   "metadata": {},
   "source": [
    "#### Some suggested tools before you get started:\n",
    "To take input from a user:\n",
    "\n",
    "    player1 = input(\"Please pick a marker 'X' or 'O'\")\n",
    "    \n",
    "Note that input() takes in a string. If you need an integer value, use\n",
    "\n",
    "    position = int(input('Please enter a number'))\n",
    "    \n",
    "<br>To clear the screen between moves:\n",
    "\n",
    "    from IPython.display import clear_output\n",
    "    clear_output()\n",
    "    \n",
    "Note that clear_output() will only work in jupyter. To clear the screen in other IDEs, consider:\n",
    "\n",
    "    print('\\n'*100)\n",
    "    \n",
    "This scrolls the previous board up out of view. Now on to the program!"
   ]
  },
  {
   "cell_type": "code",
   "execution_count": 42,
   "metadata": {},
   "outputs": [],
   "source": [
    "from IPython.display import clear_output\n",
    "\n",
    "# Variables globales\n",
    "board = [\" \"] * 10\n",
    "game_state = True\n",
    "announce = \"\""
   ]
  },
  {
   "cell_type": "code",
   "execution_count": 43,
   "metadata": {},
   "outputs": [],
   "source": [
    "# El juego ignorara el iondice 0\n",
    "def reset_board():\n",
    "    global board, game_state\n",
    "    board = [' '] * 10\n",
    "    game_state = True"
   ]
  },
  {
   "cell_type": "code",
   "execution_count": 44,
   "metadata": {
    "collapsed": true
   },
   "outputs": [],
   "source": [
    "def display_board():\n",
    "    clear_output()\n",
    "    print(board[7] + \"|\"  + board[8] + \"|\" + board[9] )\n",
    "    print(\"------\")\n",
    "    print(board[4] + \"|\"  + board[5] + \"|\" + board[6] )\n",
    "    print(\"------\")\n",
    "    print(board[1] + \"|\"  + board[2] + \"|\" + board[3] )"
   ]
  },
  {
   "cell_type": "code",
   "execution_count": 45,
   "metadata": {
    "collapsed": true
   },
   "outputs": [],
   "source": [
    "def win_check(board, player):\n",
    "    return ((board[7] == board[8] == board[9] == player) or\n",
    "    (board[4] == board[5] == board[6] == player) or\n",
    "    (board[1] == board[2] == board[3] == player) or\n",
    "    (board[7] == board[4] == board[1] == player) or\n",
    "    (board[8] == board[5] == board[2] == player) or\n",
    "    (board[9] == board[6] == board[3] == player) or\n",
    "    (board[7] == board[5] == board[3] == player) or\n",
    "    (board[9] == board[5] == board[1] == player))"
   ]
  },
  {
   "cell_type": "code",
   "execution_count": 46,
   "metadata": {
    "collapsed": true
   },
   "outputs": [],
   "source": [
    "def full_board_check(board):\n",
    "    # Desde 1 por que se ignora el prier espacio\n",
    "    if \" \" in board[1:]:\n",
    "        return False\n",
    "    else:\n",
    "        return True"
   ]
  },
  {
   "cell_type": "code",
   "execution_count": 47,
   "metadata": {},
   "outputs": [],
   "source": [
    "def ask_player(mark):\n",
    "    # preguntra al jugador deonde poner la X or la O, verifica validez\n",
    "    global board\n",
    "    req = \"Elige donde poner tu: \" +mark\n",
    "    while True:\n",
    "        try:\n",
    "            choice = int(input(req))\n",
    "        except ValueError:\n",
    "            print(\"Lo siento, por favopr ingrese un numero entre 1 y 9\")\n",
    "            continue\n",
    "        if board[choice] == \" \":\n",
    "            board[choice] = mark\n",
    "            break\n",
    "        else:\n",
    "            print(\"El espacio no esta vacio!\")\n",
    "            continue"
   ]
  },
  {
   "cell_type": "code",
   "execution_count": 48,
   "metadata": {
    "collapsed": true
   },
   "outputs": [],
   "source": [
    "def player_choice(mark):\n",
    "    global board, game_state, announce\n",
    "    announce = \"\"\n",
    "    # Obtener el Input del jugador\n",
    "    mark = str(mark)\n",
    "    # Validar la entrada\n",
    "    ask_player(mark)\n",
    "\n",
    "    # Revisar si el jhugador gano\n",
    "    if win_check(board, mark):\n",
    "        clear_output()\n",
    "        display_board()\n",
    "        announce = mark + \" gana! Felicitaciones\"\n",
    "        game_state = False\n",
    "    \n",
    "    # Mostrar tablero\n",
    "    clear_output()\n",
    "    display_board()\n",
    "    # Revisar empate\n",
    "    if full_board_check(board):\n",
    "        announce = \"Empate!\"\n",
    "        game_state = False\n",
    "    \n",
    "    return game_state, announce\n",
    "\n"
   ]
  },
  {
   "cell_type": "code",
   "execution_count": 49,
   "metadata": {},
   "outputs": [],
   "source": [
    "def play_game():\n",
    "    reset_board()\n",
    "    global  announce\n",
    "\n",
    "    # Poner marcas\n",
    "    X = \"X\"\n",
    "    O = \"O\"\n",
    "    while True:\n",
    "        # Mostar tablero\n",
    "        clear_output()\n",
    "        display_board()\n",
    "        \n",
    "        # Turno de X\n",
    "        game_state, announce = player_choice(X)\n",
    "        print(announce)\n",
    "        if game_state == False:\n",
    "            break\n",
    "\n",
    "        # Turno de O\n",
    "        game_state, announce =player_choice(O)\n",
    "        print(announce)\n",
    "        if game_state == False:\n",
    "            break\n",
    "\n",
    "    # Preguintyar ppara jugar de nuevo\n",
    "    rematch = input(\"Quieres jugar nuevamente? y/n\")\n",
    "    if reset_board == \"y\":\n",
    "        play_game()\n",
    "    else:\n",
    "        print(\"Graicias por jugar!\")\n",
    "\n"
   ]
  },
  {
   "cell_type": "code",
   "execution_count": 50,
   "metadata": {},
   "outputs": [
    {
     "output_type": "stream",
     "name": "stdout",
     "text": [
      " |O| \n",
      "------\n",
      "X|O| \n",
      "------\n",
      "X|O|X\n",
      "O gana! Felicitaciones\n",
      "Graicias por jugar!\n"
     ]
    }
   ],
   "source": [
    "play_game()"
   ]
  }
 ],
 "metadata": {
  "kernelspec": {
   "display_name": "Python 3",
   "language": "python",
   "name": "python3"
  },
  "language_info": {
   "codemirror_mode": {
    "name": "ipython",
    "version": 3
   },
   "file_extension": ".py",
   "mimetype": "text/x-python",
   "name": "python",
   "nbconvert_exporter": "python",
   "pygments_lexer": "ipython3",
   "version": "3.7.6-final"
  }
 },
 "nbformat": 4,
 "nbformat_minor": 1
}